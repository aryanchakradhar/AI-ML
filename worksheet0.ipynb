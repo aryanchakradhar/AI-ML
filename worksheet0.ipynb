{
  "nbformat": 4,
  "nbformat_minor": 0,
  "metadata": {
    "colab": {
      "provenance": []
    },
    "kernelspec": {
      "name": "python3",
      "display_name": "Python 3"
    },
    "language_info": {
      "name": "python"
    }
  },
  "cells": [
    {
      "cell_type": "markdown",
      "source": [
        "# Exercise on Functions"
      ],
      "metadata": {
        "id": "ZVeviYPKX8yq"
      }
    },
    {
      "cell_type": "markdown",
      "source": [
        "## Task1:"
      ],
      "metadata": {
        "id": "LuQKznhWYApp"
      }
    },
    {
      "cell_type": "code",
      "execution_count": 3,
      "metadata": {
        "colab": {
          "base_uri": "https://localhost:8080/"
        },
        "id": "47E5M0rBXiqx",
        "outputId": "07009fce-65a7-4f14-d80d-29b3216909c3"
      },
      "outputs": [
        {
          "output_type": "stream",
          "name": "stdout",
          "text": [
            "Unit conversion\n",
            "Choose 1 for length, 2 for weight, 3 for volume: 1\n",
            "Enter the value: 2\n",
            "Enter the unit to convert from (m/ft): ft\n",
            "0.6095999804928006\n"
          ]
        }
      ],
      "source": [
        "def convert_length(value, from_unit):\n",
        "  if(from_unit == \"m\"):\n",
        "    return value * 3.28084\n",
        "  elif(from_unit == \"ft\"):\n",
        "    return value / 3.28084\n",
        "  else:\n",
        "    return \"Invalid Unit\"\n",
        "\n",
        "def convert_weight(value, from_unit):\n",
        "  if(from_unit == \"kg\"):\n",
        "    return value * 2.20462\n",
        "  elif(from_unit == \"lb\"):\n",
        "    return value / 2.20462\n",
        "  else:\n",
        "    return \"Invalid Unit\"\n",
        "\n",
        "def convert_volume(value, from_unit):\n",
        "  if(from_unit == \"L\"):\n",
        "    return value * 0.264172\n",
        "  elif(from_unit == \"gal\"):\n",
        "    return value / 0.264172\n",
        "  else:\n",
        "    return \"Invalid Unit\"\n",
        "\n",
        "\n",
        "def main():\n",
        "  print(\"Unit conversion\")\n",
        "\n",
        "  try:\n",
        "    conversion_type = int(input(\"Choose 1 for length, 2 for weight, 3 for volume: \"))\n",
        "    value = float(input(\"Enter the value: \"))\n",
        "\n",
        "    if(conversion_type == 1):\n",
        "      from_unit = input(\"Enter the unit to convert from (m/ft): \")\n",
        "      print(convert_length(value, from_unit))\n",
        "\n",
        "    elif(conversion_type == 2):\n",
        "      from_unit = input(\"Enter the unit to convert from (kg/lb): \")\n",
        "      print(convert_weight(value, from_unit))\n",
        "\n",
        "    elif(conversion_type == 3):\n",
        "      from_unit = input(\"Enter the unit to convert from (L/gal): \")\n",
        "      print(convert_volume(value, from_unit))\n",
        "\n",
        "    else:\n",
        "      print(\"Invalid choice\")\n",
        "\n",
        "\n",
        "  except ValueError as e:\n",
        "    print(f\"Error: {e}. Please enter a valid number and unit\")\n",
        "\n",
        "main()\n",
        "\n"
      ]
    },
    {
      "cell_type": "markdown",
      "source": [
        "## Task2:"
      ],
      "metadata": {
        "id": "fkrGIFcphQAC"
      }
    },
    {
      "cell_type": "code",
      "source": [
        "def sum_of_numbers(numbers):\n",
        "  \"\"\"\n",
        "    Calculate the sum of a list of numbers.\n",
        "    :param numbers: List of numeric values.\n",
        "    :return: Sum of the numbers.\n",
        "  \"\"\"\n",
        "  sum = 0\n",
        "  for num in numbers:\n",
        "    sum += num\n",
        "  return sum\n",
        "\n",
        "def average_of_numbers(numbers):\n",
        "  \"\"\"\n",
        "  Calculate the average of a list of numbers.\n",
        "  :param numbers: List of numeric values.\n",
        "  :return: Average of the numbers, or 0 if the list is empty.\n",
        "  \"\"\"\n",
        "  if len(numbers) == 0:\n",
        "    return 0\n",
        "  return sum_of_numbers(numbers) / len(numbers)\n",
        "\n",
        "def maximum_number(numbers):\n",
        "  \"\"\"\n",
        "  Find the maximum number in a list.\n",
        "  :param numbers: List of numeric values.\n",
        "  :return: Maximum value, or 0 if the list is empty.\n",
        "  \"\"\"\n",
        "  if len(numbers) == 0:\n",
        "    return 0\n",
        "  max = numbers[0]\n",
        "  for num in numbers:\n",
        "    if(num > max):\n",
        "      max = num\n",
        "  return max\n",
        "\n",
        "def minimum_number(numbers):\n",
        "  \"\"\"\n",
        "  Find the minimum number in a list.\n",
        "  :param numbers: List of numeric values.\n",
        "  :return: minimum value, or 0 if the list is empty.\n",
        "  \"\"\"\n",
        "  if len(numbers) == 0:\n",
        "    return 0\n",
        "  min = numbers[0]\n",
        "  for num in numbers:\n",
        "    if(num < min):\n",
        "      min = num\n",
        "  return min\n",
        "\n",
        "def main():\n",
        "  \"\"\"\n",
        "  Main function to take user input and perform selected operation.\n",
        "  \"\"\"\n",
        "  try:\n",
        "    number = [float(x) for x in input(\"Enter the numbers separated by space: \").split()]\n",
        "    operation_type = int(input(\"Choose 1 for sum, 2 for average, 3 for maximum, 4 for minimum: \"))\n",
        "\n",
        "    if(operation_type == 1):\n",
        "      print(f\"Sum of the numbers: {sum_of_numbers(number)}\")\n",
        "    elif(operation_type == 2):\n",
        "      print(f\"Average of the numbers: {average_of_numbers(number)}\")\n",
        "    elif(operation_type == 3):\n",
        "      print(f\"Maximum of the numbers: {maximum_number(number)}\")\n",
        "    elif(operation_type == 4):\n",
        "      print(f\"Minimum of the numbers: {minimum_number(number)}\")\n",
        "\n",
        "    else:\n",
        "      print(\"Invalid choice\")\n",
        "\n",
        "  except ValueError as e:\n",
        "    print(f\"Error: {e}. Please enter a valid number\")\n",
        "\n",
        "main()"
      ],
      "metadata": {
        "id": "gBC99sfrhSNi",
        "colab": {
          "base_uri": "https://localhost:8080/"
        },
        "outputId": "f00a4861-7fd0-4e34-e562-2e2a6119ca20"
      },
      "execution_count": 4,
      "outputs": [
        {
          "output_type": "stream",
          "name": "stdout",
          "text": [
            "Enter the numbers separated by space: 1 3 5\n",
            "Choose 1 for sum, 2 for average, 3 for maximum, 4 for minimum: 1\n",
            "Sum of the numbers: 9.0\n"
          ]
        }
      ]
    },
    {
      "cell_type": "markdown",
      "source": [
        "# Exercise on List Manipulation:"
      ],
      "metadata": {
        "id": "xeN7jFZOmm_6"
      }
    },
    {
      "cell_type": "markdown",
      "source": [
        "## Extract Every Other Element:"
      ],
      "metadata": {
        "id": "yWExi2cZxdOb"
      }
    },
    {
      "cell_type": "code",
      "source": [
        "def extract_every_other(lst):\n",
        "  #  return lst[::2] # list[start:stop:step]\n",
        "\n",
        "  if not isinstance(lst, list):\n",
        "      raise TypeError(\"Input must be a list.\")\n",
        "  result = []\n",
        "  for i in range(0,len(lst),2):\n",
        "    result.append(lst[i])\n",
        "  return result\n",
        "\n",
        "\n",
        "try:\n",
        "    new_lst = extract_every_other([1, 2, 3, 4, 5, 6])\n",
        "    print(new_lst)\n",
        "except (TypeError, ValueError) as e:\n",
        "    print(f\"Error: {e}\")"
      ],
      "metadata": {
        "colab": {
          "base_uri": "https://localhost:8080/"
        },
        "id": "N1-78fvqmn6S",
        "outputId": "64d99abf-5628-49e6-942f-cee30438a9dc"
      },
      "execution_count": 5,
      "outputs": [
        {
          "output_type": "stream",
          "name": "stdout",
          "text": [
            "[1, 3, 5]\n"
          ]
        }
      ]
    },
    {
      "cell_type": "markdown",
      "source": [
        "## Slice a Sublist:"
      ],
      "metadata": {
        "id": "1STOysX-4bzb"
      }
    },
    {
      "cell_type": "code",
      "source": [
        "def get_sublist(lst, start, end):\n",
        "  return lst[start:end]\n",
        "\n",
        "new_lst = get_sublist([1, 2, 3, 4, 5, 6],2, 4)\n",
        "new_lst"
      ],
      "metadata": {
        "colab": {
          "base_uri": "https://localhost:8080/"
        },
        "id": "cYN_YJb_4aVU",
        "outputId": "8aab7b5e-0c3d-41cb-c2da-2c3ecb540e31"
      },
      "execution_count": 6,
      "outputs": [
        {
          "output_type": "execute_result",
          "data": {
            "text/plain": [
              "[3, 4]"
            ]
          },
          "metadata": {},
          "execution_count": 6
        }
      ]
    },
    {
      "cell_type": "code",
      "source": [
        "def reverse_list(lst):\n",
        "  return lst[::-1]\n",
        "reverse_list([1, 2, 3, 4, 5])"
      ],
      "metadata": {
        "colab": {
          "base_uri": "https://localhost:8080/"
        },
        "id": "u7Y0EufI6pBc",
        "outputId": "8053bca4-0b24-4a31-ba3d-dc607d9b90a8"
      },
      "execution_count": 7,
      "outputs": [
        {
          "output_type": "execute_result",
          "data": {
            "text/plain": [
              "[5, 4, 3, 2, 1]"
            ]
          },
          "metadata": {},
          "execution_count": 7
        }
      ]
    },
    {
      "cell_type": "markdown",
      "source": [
        "### Remove the First and Last Elements:"
      ],
      "metadata": {
        "id": "Cq1aqeF69IU1"
      }
    },
    {
      "cell_type": "code",
      "source": [
        "def remove_first_last(lst):\n",
        "  return lst[1:-1:]\n",
        "\n",
        "remove_first_last([1, 2, 3, 4, 5])"
      ],
      "metadata": {
        "colab": {
          "base_uri": "https://localhost:8080/"
        },
        "id": "DPNfXyPN7yXM",
        "outputId": "d3c96fd2-8906-4fe3-9d3d-ecdd859d3ecf"
      },
      "execution_count": 11,
      "outputs": [
        {
          "output_type": "execute_result",
          "data": {
            "text/plain": [
              "[2, 3, 4]"
            ]
          },
          "metadata": {},
          "execution_count": 11
        }
      ]
    },
    {
      "cell_type": "markdown",
      "source": [
        "### Get the First n Elements:"
      ],
      "metadata": {
        "id": "GhVU7CP09MfF"
      }
    },
    {
      "cell_type": "code",
      "source": [
        "def get_first_n(lst, n):\n",
        "  return lst[:n]\n",
        "n = int(input(\"Enter n number to return first n element\"))\n",
        "get_first_n([1, 2, 3, 4, 5],n)"
      ],
      "metadata": {
        "colab": {
          "base_uri": "https://localhost:8080/"
        },
        "id": "aOdkrfXJ9Nwk",
        "outputId": "59dfd02a-74bc-44c6-c45a-46eccb4cbcfd"
      },
      "execution_count": 14,
      "outputs": [
        {
          "name": "stdout",
          "output_type": "stream",
          "text": [
            "Enter n number to return first n element3\n"
          ]
        },
        {
          "output_type": "execute_result",
          "data": {
            "text/plain": [
              "[1, 2, 3]"
            ]
          },
          "metadata": {},
          "execution_count": 14
        }
      ]
    },
    {
      "cell_type": "markdown",
      "source": [
        "### Extract Elements from the End:"
      ],
      "metadata": {
        "id": "2KjgpBVpJlHV"
      }
    },
    {
      "cell_type": "code",
      "source": [
        "def get_lst_n(lst, n):\n",
        "  return lst[-n:]\n",
        "n = int(input(\"Enter number to return n last element\"))\n",
        "\n",
        "get_lst_n([1, 2, 3, 4, 5],n)"
      ],
      "metadata": {
        "colab": {
          "base_uri": "https://localhost:8080/"
        },
        "id": "rjZ0fDNb-4uk",
        "outputId": "0cc334b5-98ba-43bd-d01e-3f9c4df7949b"
      },
      "execution_count": 15,
      "outputs": [
        {
          "name": "stdout",
          "output_type": "stream",
          "text": [
            "Enter number to return n last element4\n"
          ]
        },
        {
          "output_type": "execute_result",
          "data": {
            "text/plain": [
              "[2, 3, 4, 5]"
            ]
          },
          "metadata": {},
          "execution_count": 15
        }
      ]
    },
    {
      "cell_type": "markdown",
      "source": [
        "### Extract Elements in Reverse Order"
      ],
      "metadata": {
        "id": "kD_JYw7HFRPH"
      }
    },
    {
      "cell_type": "code",
      "source": [
        "def reverse_skip(lst):\n",
        "  return lst[-2::-2]\n",
        "\n",
        "reverse_skip([1, 2, 3, 4, 5, 6])"
      ],
      "metadata": {
        "colab": {
          "base_uri": "https://localhost:8080/"
        },
        "id": "lX26GNXzLwdW",
        "outputId": "f947cb8e-adee-46c3-860b-c7b34cd37829"
      },
      "execution_count": 16,
      "outputs": [
        {
          "output_type": "execute_result",
          "data": {
            "text/plain": [
              "[5, 3, 1]"
            ]
          },
          "metadata": {},
          "execution_count": 16
        }
      ]
    },
    {
      "cell_type": "markdown",
      "source": [
        "## Exercise on Nested List:"
      ],
      "metadata": {
        "id": "HEPygs4zHckZ"
      }
    },
    {
      "cell_type": "markdown",
      "source": [
        "### Flatten a Nested List:"
      ],
      "metadata": {
        "id": "z7Tz_UWaO6gI"
      }
    },
    {
      "cell_type": "code",
      "source": [
        "def flatten(lst):\n",
        "\n",
        "  flat_list = []\n",
        "\n",
        "  for sublist in lst:\n",
        "    if isinstance(sublist, list):\n",
        "      flat_list.extend(sublist)\n",
        "    else:\n",
        "      flat_list.append(sublist)\n",
        "  return flat_list\n",
        "\n",
        "nested_list = [[1, 2], [3, 4], [5]]\n",
        "print(flatten(nested_list))"
      ],
      "metadata": {
        "colab": {
          "base_uri": "https://localhost:8080/"
        },
        "id": "SosFLh6OHdoS",
        "outputId": "fa663555-d4cd-4ff2-863e-ad7af5bdebe5"
      },
      "execution_count": 17,
      "outputs": [
        {
          "output_type": "stream",
          "name": "stdout",
          "text": [
            "[1, 2, 3, 4, 5]\n"
          ]
        }
      ]
    },
    {
      "cell_type": "code",
      "source": [
        "def access_nested_element(lst, indices):\n",
        "  return lst[indices[0]][indices[1]]\n",
        "\n",
        "access_nested_element( [[1, 2, 3], [4, 5, 6], [7, 8, 9]], [1,2])"
      ],
      "metadata": {
        "colab": {
          "base_uri": "https://localhost:8080/"
        },
        "id": "I5Lf_5iDcoO6",
        "outputId": "cb2c61c9-6c54-4993-bde9-317e9cf4b961"
      },
      "execution_count": 18,
      "outputs": [
        {
          "output_type": "execute_result",
          "data": {
            "text/plain": [
              "6"
            ]
          },
          "metadata": {},
          "execution_count": 18
        }
      ]
    },
    {
      "cell_type": "code",
      "source": [
        "def sum_nested(lst):\n",
        "  total = 0\n",
        "  for item in lst:\n",
        "    if isinstance(item, list):\n",
        "        total += sum_nested(item)\n",
        "    else:\n",
        "        total += item\n",
        "  return total\n",
        "\n",
        "\n",
        "nested_list = [[1, 2], [3, [4, 5]], 6]\n",
        "print(sum_nested(nested_list))\n"
      ],
      "metadata": {
        "colab": {
          "base_uri": "https://localhost:8080/"
        },
        "id": "5OuKg9fad4Ri",
        "outputId": "82ab8fae-60f9-429f-df6f-2ec77eaee2fc"
      },
      "execution_count": 19,
      "outputs": [
        {
          "output_type": "stream",
          "name": "stdout",
          "text": [
            "21\n"
          ]
        }
      ]
    },
    {
      "cell_type": "code",
      "source": [
        "def remove_element(lst, elm):\n",
        "  for i, sublist in enumerate(lst):\n",
        "    for j, num in enumerate(sublist):\n",
        "      if num == 2:\n",
        "        lst[i].pop(j)\n",
        "\n",
        "  return lst\n",
        "\n",
        "remove_element([[1, 2], [3, 2], [4, 5]], 2)"
      ],
      "metadata": {
        "colab": {
          "base_uri": "https://localhost:8080/"
        },
        "id": "T6a9PCO1hYYz",
        "outputId": "3172b0a5-e060-4208-a570-43415fda9ab9"
      },
      "execution_count": 20,
      "outputs": [
        {
          "output_type": "execute_result",
          "data": {
            "text/plain": [
              "[[1], [3], [4, 5]]"
            ]
          },
          "metadata": {},
          "execution_count": 20
        }
      ]
    },
    {
      "cell_type": "code",
      "source": [
        "def find_max(lst):\n",
        "    max_value = float('-inf')  # Initialize with negative infinity\n",
        "\n",
        "    for item in lst:\n",
        "        if isinstance(item, list):\n",
        "            max_value = max(max_value, find_max(item))  # Recursively find max\n",
        "        else:\n",
        "            max_value = max(max_value, item)  # Compare numbers\n",
        "\n",
        "    return max_value\n",
        "\n",
        "\n",
        "nested_list = [[1, 2], [3, [4, 5]], 6]\n",
        "find_max(nested_list)\n"
      ],
      "metadata": {
        "colab": {
          "base_uri": "https://localhost:8080/"
        },
        "id": "kxmeHd7kkxBK",
        "outputId": "964428ba-1cc9-4486-ad93-77e924bf7cd3"
      },
      "execution_count": 21,
      "outputs": [
        {
          "output_type": "execute_result",
          "data": {
            "text/plain": [
              "6"
            ]
          },
          "metadata": {},
          "execution_count": 21
        }
      ]
    },
    {
      "cell_type": "code",
      "source": [
        "def count_cccurrences(lst, elem):\n",
        "  count = 0\n",
        "  for item in lst:\n",
        "    if isinstance(item,list):\n",
        "      for num in item:\n",
        "        if elem == num:\n",
        "          count +=1\n",
        "    else:\n",
        "      if elem == item:\n",
        "        count +=1\n",
        "\n",
        "  return count\n",
        "\n",
        "lst =  [[1, 2], [2, 3], [2, 4]]\n",
        "count_cccurrences(lst,2)"
      ],
      "metadata": {
        "colab": {
          "base_uri": "https://localhost:8080/"
        },
        "id": "p79p1fdImmnM",
        "outputId": "a7bcf28d-eb2c-4c98-fea8-e6ede5c24a7d"
      },
      "execution_count": 22,
      "outputs": [
        {
          "output_type": "execute_result",
          "data": {
            "text/plain": [
              "3"
            ]
          },
          "metadata": {},
          "execution_count": 22
        }
      ]
    },
    {
      "cell_type": "code",
      "source": [
        "def deep_flatten(lst):\n",
        "    flat_list = []\n",
        "    for item in lst:\n",
        "        if isinstance(item, list):  # If item is a list, recursively flatten it\n",
        "            flat_list.extend(deep_flatten(item))\n",
        "        else:\n",
        "            flat_list.append(item)  # Append non-list elements directly\n",
        "    return flat_list\n",
        "\n",
        "\n",
        "nested_list = [[[1, 2], [3, 4]], [[5, 6], [7, 8]]]\n",
        "deep_flatten(nested_list)\n"
      ],
      "metadata": {
        "colab": {
          "base_uri": "https://localhost:8080/"
        },
        "id": "RWsnh6L-opG7",
        "outputId": "5fdf2fd3-3b89-4258-e3d5-d697cb5bdf2f"
      },
      "execution_count": 23,
      "outputs": [
        {
          "output_type": "execute_result",
          "data": {
            "text/plain": [
              "[1, 2, 3, 4, 5, 6, 7, 8]"
            ]
          },
          "metadata": {},
          "execution_count": 23
        }
      ]
    },
    {
      "cell_type": "code",
      "source": [
        "def deep_flatten(lst):\n",
        "    flat_list = []\n",
        "    for item in lst:\n",
        "        if isinstance(item, list):  # If item is a list, recursively flatten it\n",
        "            flat_list.extend(deep_flatten(item))\n",
        "        else:\n",
        "            flat_list.append(item)  # Append non-list elements directly\n",
        "    return flat_list\n",
        "\n",
        "\n",
        "nested_list =[[1, 2], [3, 4], [5, 6]]\n",
        "new_list = deep_flatten(nested_list)\n",
        "\n",
        "sum(new_list)/len(new_list)\n"
      ],
      "metadata": {
        "colab": {
          "base_uri": "https://localhost:8080/"
        },
        "id": "WOhijj0Xpsoz",
        "outputId": "e2731e66-f44f-40d1-9997-5441b64062e9"
      },
      "execution_count": 24,
      "outputs": [
        {
          "output_type": "execute_result",
          "data": {
            "text/plain": [
              "3.5"
            ]
          },
          "metadata": {},
          "execution_count": 24
        }
      ]
    },
    {
      "cell_type": "markdown",
      "source": [
        "# NumPy"
      ],
      "metadata": {
        "id": "Dwk3NvAKqj4M"
      }
    },
    {
      "cell_type": "markdown",
      "source": [
        "## Basic Vector and Matrix Operation with Numpy"
      ],
      "metadata": {
        "id": "mXE86lj2qEoP"
      }
    },
    {
      "cell_type": "markdown",
      "source": [
        "### Problem - 1: Array Creation:"
      ],
      "metadata": {
        "id": "IZM9IQWWqOgd"
      }
    },
    {
      "cell_type": "code",
      "source": [
        "import numpy as np"
      ],
      "metadata": {
        "id": "B6lr7DzJqlgD"
      },
      "execution_count": 25,
      "outputs": []
    },
    {
      "cell_type": "markdown",
      "source": [
        "**Initialize an empty array with size 2X2**"
      ],
      "metadata": {
        "id": "kpM6XdbtqfPN"
      }
    },
    {
      "cell_type": "code",
      "source": [
        "empty_array = np.empty((2,2))\n",
        "empty_array"
      ],
      "metadata": {
        "colab": {
          "base_uri": "https://localhost:8080/"
        },
        "id": "oT9jwPKMqbM-",
        "outputId": "59affb39-d533-40c5-b762-152c87c94d76"
      },
      "execution_count": 26,
      "outputs": [
        {
          "output_type": "execute_result",
          "data": {
            "text/plain": [
              "array([[2.35904039e-316, 0.00000000e+000],\n",
              "       [9.38185117e-154, 1.16304933e+214]])"
            ]
          },
          "metadata": {},
          "execution_count": 26
        }
      ]
    },
    {
      "cell_type": "code",
      "source": [
        "from google.colab import drive\n",
        "drive.mount('/content/drive')"
      ],
      "metadata": {
        "colab": {
          "base_uri": "https://localhost:8080/"
        },
        "id": "WH_GlQJcRELK",
        "outputId": "4eba2bf3-ab72-4d54-b1ed-743233d59e91"
      },
      "execution_count": 27,
      "outputs": [
        {
          "output_type": "stream",
          "name": "stdout",
          "text": [
            "Drive already mounted at /content/drive; to attempt to forcibly remount, call drive.mount(\"/content/drive\", force_remount=True).\n"
          ]
        }
      ]
    },
    {
      "cell_type": "markdown",
      "source": [
        "**Initialize an all-one array with size 4X2**"
      ],
      "metadata": {
        "id": "ZY8WQ0l3qsfG"
      }
    },
    {
      "cell_type": "code",
      "source": [
        "one_array = np.ones((4,2))\n",
        "print(one_array)"
      ],
      "metadata": {
        "colab": {
          "base_uri": "https://localhost:8080/"
        },
        "id": "SXKtYxYUqvJF",
        "outputId": "2a3d19cb-3fee-447e-eee2-f363a0536ef0"
      },
      "execution_count": 28,
      "outputs": [
        {
          "output_type": "stream",
          "name": "stdout",
          "text": [
            "[[1. 1.]\n",
            " [1. 1.]\n",
            " [1. 1.]\n",
            " [1. 1.]]\n"
          ]
        }
      ]
    },
    {
      "cell_type": "markdown",
      "source": [
        "**Return a new array of given shape and type, filled with fill value**"
      ],
      "metadata": {
        "id": "5m0RfIOqrDZu"
      }
    },
    {
      "cell_type": "code",
      "source": [
        "fill_value_array = np.full((3,2), 7) #create 3X2 size of matrix with value 7 on each\n",
        "fill_value_array"
      ],
      "metadata": {
        "colab": {
          "base_uri": "https://localhost:8080/"
        },
        "id": "43HArcqqrEQl",
        "outputId": "c7a4d02e-fbe3-439e-c60b-3517546c82d0"
      },
      "execution_count": 29,
      "outputs": [
        {
          "output_type": "execute_result",
          "data": {
            "text/plain": [
              "array([[7, 7],\n",
              "       [7, 7],\n",
              "       [7, 7]])"
            ]
          },
          "metadata": {},
          "execution_count": 29
        }
      ]
    },
    {
      "cell_type": "markdown",
      "source": [
        "Return a new array of zeros with same shape and type as a given array"
      ],
      "metadata": {
        "id": "57qqLP2qraX2"
      }
    },
    {
      "cell_type": "code",
      "source": [
        "sample_array = np.array([[4, 5], [6, 7]])\n",
        "print(sample_array)\n",
        "print(\"\\nZero Array:\")\n",
        "zero_array = np.zeros_like(sample_array)\n",
        "print(zero_array)"
      ],
      "metadata": {
        "colab": {
          "base_uri": "https://localhost:8080/"
        },
        "id": "rF6ZfzN1rcnu",
        "outputId": "ef6e2012-effd-4961-f9f6-17374959004a"
      },
      "execution_count": 30,
      "outputs": [
        {
          "output_type": "stream",
          "name": "stdout",
          "text": [
            "[[4 5]\n",
            " [6 7]]\n",
            "\n",
            "Zero Array:\n",
            "[[0 0]\n",
            " [0 0]]\n"
          ]
        }
      ]
    },
    {
      "cell_type": "markdown",
      "source": [
        "**Return a new array of ones with same shape and type as a given array**"
      ],
      "metadata": {
        "id": "0zFXqiR-sRl_"
      }
    },
    {
      "cell_type": "code",
      "source": [
        "ones_like_array = np.ones_like(sample_array)\n",
        "ones_like_array"
      ],
      "metadata": {
        "colab": {
          "base_uri": "https://localhost:8080/"
        },
        "id": "KImIBGUbsTxH",
        "outputId": "c71c06cf-2a41-42f9-f6ee-2bd8a78c63d2"
      },
      "execution_count": 31,
      "outputs": [
        {
          "output_type": "execute_result",
          "data": {
            "text/plain": [
              "array([[1, 1],\n",
              "       [1, 1]])"
            ]
          },
          "metadata": {},
          "execution_count": 31
        }
      ]
    },
    {
      "cell_type": "markdown",
      "source": [
        "**Convert an existing list to a NumPy array**"
      ],
      "metadata": {
        "id": "0EmkdjAAshkG"
      }
    },
    {
      "cell_type": "code",
      "source": [
        "new_list = [1, 2, 3, 4]\n",
        "numpy_array = np.array(new_list)\n",
        "numpy_array"
      ],
      "metadata": {
        "colab": {
          "base_uri": "https://localhost:8080/"
        },
        "id": "vTTfSSOosf4u",
        "outputId": "69e6046d-e346-4e2f-fd64-74cf5d1d42dd"
      },
      "execution_count": 32,
      "outputs": [
        {
          "output_type": "execute_result",
          "data": {
            "text/plain": [
              "array([1, 2, 3, 4])"
            ]
          },
          "metadata": {},
          "execution_count": 32
        }
      ]
    },
    {
      "cell_type": "markdown",
      "source": [
        "### Problem - 2: Array Manipulation: Numerical Ranges and Array indexing:"
      ],
      "metadata": {
        "id": "C9azhZXZsyDF"
      }
    },
    {
      "cell_type": "markdown",
      "source": [
        "**Create an array with values ranging from 10 to 49**"
      ],
      "metadata": {
        "id": "9pXY6_w2s0Y-"
      }
    },
    {
      "cell_type": "code",
      "source": [
        "array_10_49 = np.arange(10, 50)\n",
        "array_10_49"
      ],
      "metadata": {
        "colab": {
          "base_uri": "https://localhost:8080/"
        },
        "id": "hc8yxlsvty-e",
        "outputId": "3ec6f9c6-e7fd-4676-800f-9a307fb155a1"
      },
      "execution_count": 33,
      "outputs": [
        {
          "output_type": "execute_result",
          "data": {
            "text/plain": [
              "array([10, 11, 12, 13, 14, 15, 16, 17, 18, 19, 20, 21, 22, 23, 24, 25, 26,\n",
              "       27, 28, 29, 30, 31, 32, 33, 34, 35, 36, 37, 38, 39, 40, 41, 42, 43,\n",
              "       44, 45, 46, 47, 48, 49])"
            ]
          },
          "metadata": {},
          "execution_count": 33
        }
      ]
    },
    {
      "cell_type": "markdown",
      "source": [
        "# Create a 3X3 matrix with values ranging from 0 to 8."
      ],
      "metadata": {
        "id": "L-mO8msIvlve"
      }
    },
    {
      "cell_type": "code",
      "source": [
        "matrix_3x3 = np.arange(9).reshape(3, 3)\n",
        "matrix_3x3"
      ],
      "metadata": {
        "colab": {
          "base_uri": "https://localhost:8080/"
        },
        "id": "wATTgCU-vmq2",
        "outputId": "70c5fb6f-f8ac-49a9-ae57-2762d6f7efc6"
      },
      "execution_count": 34,
      "outputs": [
        {
          "output_type": "execute_result",
          "data": {
            "text/plain": [
              "array([[0, 1, 2],\n",
              "       [3, 4, 5],\n",
              "       [6, 7, 8]])"
            ]
          },
          "metadata": {},
          "execution_count": 34
        }
      ]
    },
    {
      "cell_type": "markdown",
      "source": [
        "Create a 3X3 identity matrix.{Hint:np.eye()}\n",
        "**bold text**"
      ],
      "metadata": {
        "id": "t50bUKzRvm_2"
      }
    },
    {
      "cell_type": "code",
      "source": [
        "identity_matrix = np.eye(3)\n",
        "identity_matrix"
      ],
      "metadata": {
        "colab": {
          "base_uri": "https://localhost:8080/"
        },
        "id": "U90EjAcVv3wv",
        "outputId": "46229614-4ce4-4919-a6ae-6376f1a1c540"
      },
      "execution_count": 35,
      "outputs": [
        {
          "output_type": "execute_result",
          "data": {
            "text/plain": [
              "array([[1., 0., 0.],\n",
              "       [0., 1., 0.],\n",
              "       [0., 0., 1.]])"
            ]
          },
          "metadata": {},
          "execution_count": 35
        }
      ]
    },
    {
      "cell_type": "markdown",
      "source": [
        "Create a random array of size 30 and find the mean of the array.\n",
        "{Hint:check for np.random.random() and array.mean() function} **bold text**"
      ],
      "metadata": {
        "id": "ybd-Ppv3vqy3"
      }
    },
    {
      "cell_type": "code",
      "source": [
        "random_array = np.random.random(30)\n",
        "random_array.mean()"
      ],
      "metadata": {
        "colab": {
          "base_uri": "https://localhost:8080/"
        },
        "id": "hEEZarPbv4Su",
        "outputId": "d20b9925-bd3e-4e8e-d49a-73785533c945"
      },
      "execution_count": 36,
      "outputs": [
        {
          "output_type": "execute_result",
          "data": {
            "text/plain": [
              "0.5202304551586321"
            ]
          },
          "metadata": {},
          "execution_count": 36
        }
      ]
    },
    {
      "cell_type": "markdown",
      "source": [
        "**Create a 10X10 array with random values and find the minimum and maximum values.**"
      ],
      "metadata": {
        "id": "37S7sDVivsiW"
      }
    },
    {
      "cell_type": "code",
      "source": [
        "random_matrix  = np.random.random((10,10))\n",
        "# print(random_matrix)\n",
        "print(f\"Minimum value: {random_matrix.min()}\")\n",
        "print(f\"Maximum value: {random_matrix.max()}\")"
      ],
      "metadata": {
        "colab": {
          "base_uri": "https://localhost:8080/"
        },
        "id": "5rTN3WD_v43f",
        "outputId": "679d0f70-9711-490f-ad55-09b5aa193fc1"
      },
      "execution_count": 37,
      "outputs": [
        {
          "output_type": "stream",
          "name": "stdout",
          "text": [
            "Minimum value: 0.014715228760905696\n",
            "Maximum value: 0.9929603438848447\n"
          ]
        }
      ]
    },
    {
      "cell_type": "markdown",
      "source": [
        "**Create a zero array of size 10 and replace 5th element with 1.**"
      ],
      "metadata": {
        "id": "ktbTpKsRvtmm"
      }
    },
    {
      "cell_type": "code",
      "source": [
        "zero_array  = np.zeros(10)\n",
        "zero_array[4] = 1\n",
        "zero_array"
      ],
      "metadata": {
        "colab": {
          "base_uri": "https://localhost:8080/"
        },
        "id": "qIJ0cq6Rv5TX",
        "outputId": "c2cdf46c-0748-44ac-ccb8-f76b88f70b46"
      },
      "execution_count": 38,
      "outputs": [
        {
          "output_type": "execute_result",
          "data": {
            "text/plain": [
              "array([0., 0., 0., 0., 1., 0., 0., 0., 0., 0.])"
            ]
          },
          "metadata": {},
          "execution_count": 38
        }
      ]
    },
    {
      "cell_type": "markdown",
      "source": [
        "**Reverse an array arr = [1,2,0,0,4,0].**"
      ],
      "metadata": {
        "id": "i3YLhFoYvvze"
      }
    },
    {
      "cell_type": "code",
      "source": [
        "arr = np.array([1,2,0,0,4,0])\n",
        "reversed_arr = arr[::-1]\n",
        "reversed_arr"
      ],
      "metadata": {
        "colab": {
          "base_uri": "https://localhost:8080/"
        },
        "id": "5Az5i-xcv52e",
        "outputId": "4b850c32-3fd2-4dae-ca1b-3b5a638ef455"
      },
      "execution_count": 39,
      "outputs": [
        {
          "output_type": "execute_result",
          "data": {
            "text/plain": [
              "array([0, 4, 0, 0, 2, 1])"
            ]
          },
          "metadata": {},
          "execution_count": 39
        }
      ]
    },
    {
      "cell_type": "markdown",
      "source": [
        "**Create a 2d array with 1 on border and 0 inside.**"
      ],
      "metadata": {
        "id": "d5YG14hjvx2m"
      }
    },
    {
      "cell_type": "code",
      "source": [
        "boarder_array = np.ones((5,5))\n",
        "boarder_array[1:-1, 1:-1] = 0\n",
        "boarder_array"
      ],
      "metadata": {
        "colab": {
          "base_uri": "https://localhost:8080/"
        },
        "id": "Fc5EwCfSv6e3",
        "outputId": "07524bcf-d2f9-4cc9-d140-b95a0e849a6d"
      },
      "execution_count": 40,
      "outputs": [
        {
          "output_type": "execute_result",
          "data": {
            "text/plain": [
              "array([[1., 1., 1., 1., 1.],\n",
              "       [1., 0., 0., 0., 1.],\n",
              "       [1., 0., 0., 0., 1.],\n",
              "       [1., 0., 0., 0., 1.],\n",
              "       [1., 1., 1., 1., 1.]])"
            ]
          },
          "metadata": {},
          "execution_count": 40
        }
      ]
    },
    {
      "cell_type": "markdown",
      "source": [
        "**Create a 8X8 matrix and fill it with a checkerboard pattern.**"
      ],
      "metadata": {
        "id": "4PLK7XDkv0cu"
      }
    },
    {
      "cell_type": "code",
      "source": [
        "checkerboard = np.zeros((8, 8), dtype=int)\n",
        "checkerboard[1::2, ::2] = 1\n",
        "checkerboard[::2, 1::2] = 1\n",
        "\n",
        "checkerboard"
      ],
      "metadata": {
        "colab": {
          "base_uri": "https://localhost:8080/"
        },
        "id": "EAYStp-Wv69G",
        "outputId": "6b7c28d1-4beb-4774-bbba-a9a4259cd265"
      },
      "execution_count": 41,
      "outputs": [
        {
          "output_type": "execute_result",
          "data": {
            "text/plain": [
              "array([[0, 1, 0, 1, 0, 1, 0, 1],\n",
              "       [1, 0, 1, 0, 1, 0, 1, 0],\n",
              "       [0, 1, 0, 1, 0, 1, 0, 1],\n",
              "       [1, 0, 1, 0, 1, 0, 1, 0],\n",
              "       [0, 1, 0, 1, 0, 1, 0, 1],\n",
              "       [1, 0, 1, 0, 1, 0, 1, 0],\n",
              "       [0, 1, 0, 1, 0, 1, 0, 1],\n",
              "       [1, 0, 1, 0, 1, 0, 1, 0]])"
            ]
          },
          "metadata": {},
          "execution_count": 41
        }
      ]
    },
    {
      "cell_type": "markdown",
      "source": [
        "### Problem - 3: Array Operations:\n"
      ],
      "metadata": {
        "id": "SQ3UyuI_1s3u"
      }
    },
    {
      "cell_type": "code",
      "source": [
        "x = np.array([[1, 2], [3, 5]])\n",
        "y = np.array([[5, 6], [7, 8]])\n",
        "v = np.array([9, 10])\n",
        "w = np.array([11, 12])"
      ],
      "metadata": {
        "id": "q3hNuao-1vNX"
      },
      "execution_count": 42,
      "outputs": []
    },
    {
      "cell_type": "code",
      "source": [
        "x+y"
      ],
      "metadata": {
        "colab": {
          "base_uri": "https://localhost:8080/"
        },
        "id": "zU4L4SaN3O-3",
        "outputId": "0612c52a-87a6-43e0-e769-eb2cb8923c2f"
      },
      "execution_count": 43,
      "outputs": [
        {
          "output_type": "execute_result",
          "data": {
            "text/plain": [
              "array([[ 6,  8],\n",
              "       [10, 13]])"
            ]
          },
          "metadata": {},
          "execution_count": 43
        }
      ]
    },
    {
      "cell_type": "code",
      "source": [
        "x-y"
      ],
      "metadata": {
        "colab": {
          "base_uri": "https://localhost:8080/"
        },
        "id": "U5sm-wa43V4m",
        "outputId": "17b58e8c-fbc1-4253-a6d4-f4432260eb27"
      },
      "execution_count": 44,
      "outputs": [
        {
          "output_type": "execute_result",
          "data": {
            "text/plain": [
              "array([[-4, -4],\n",
              "       [-4, -3]])"
            ]
          },
          "metadata": {},
          "execution_count": 44
        }
      ]
    },
    {
      "cell_type": "code",
      "source": [
        "x*3"
      ],
      "metadata": {
        "colab": {
          "base_uri": "https://localhost:8080/"
        },
        "id": "D0HLcQOG3Yyu",
        "outputId": "d3f59663-0f03-48cd-a295-6bb4357b48a1"
      },
      "execution_count": 45,
      "outputs": [
        {
          "output_type": "execute_result",
          "data": {
            "text/plain": [
              "array([[ 3,  6],\n",
              "       [ 9, 15]])"
            ]
          },
          "metadata": {},
          "execution_count": 45
        }
      ]
    },
    {
      "cell_type": "code",
      "source": [
        "np.square(x)"
      ],
      "metadata": {
        "colab": {
          "base_uri": "https://localhost:8080/"
        },
        "id": "D6CMTyfX3diu",
        "outputId": "9696f172-4409-44db-959b-1b539294cb59"
      },
      "execution_count": 46,
      "outputs": [
        {
          "output_type": "execute_result",
          "data": {
            "text/plain": [
              "array([[ 1,  4],\n",
              "       [ 9, 25]])"
            ]
          },
          "metadata": {},
          "execution_count": 46
        }
      ]
    },
    {
      "cell_type": "code",
      "source": [
        "dot_vw = np.dot(v, w)  # Dot product of v and w\n",
        "dot_xv = np.dot(x, v)  # Dot product of x and v\n",
        "dot_xy = np.dot(x, y)  # Dot product of x and y\n",
        "\n",
        "print(\"\\nDot product of v and w:\", dot_vw)\n",
        "print(\"\\nDot product of x and v:\\n\", dot_xv)\n",
        "print(\"\\nDot product of x and y:\\n\", dot_xy)"
      ],
      "metadata": {
        "colab": {
          "base_uri": "https://localhost:8080/"
        },
        "id": "ysiUVQYL3y8_",
        "outputId": "c7904102-c36c-4dfa-a281-a7899839bcb9"
      },
      "execution_count": 47,
      "outputs": [
        {
          "output_type": "stream",
          "name": "stdout",
          "text": [
            "\n",
            "Dot product of v and w: 219\n",
            "\n",
            "Dot product of x and v:\n",
            " [29 77]\n",
            "\n",
            "Dot product of x and y:\n",
            " [[19 22]\n",
            " [50 58]]\n"
          ]
        }
      ]
    },
    {
      "cell_type": "code",
      "source": [
        "print(x)\n",
        "print(\"\\n\")\n",
        "print(y)"
      ],
      "metadata": {
        "colab": {
          "base_uri": "https://localhost:8080/"
        },
        "id": "PXrh6hZ84Eq_",
        "outputId": "1ea968b1-9ca7-4709-b205-6d62172f8e17"
      },
      "execution_count": 48,
      "outputs": [
        {
          "output_type": "stream",
          "name": "stdout",
          "text": [
            "[[1 2]\n",
            " [3 5]]\n",
            "\n",
            "\n",
            "[[5 6]\n",
            " [7 8]]\n"
          ]
        }
      ]
    },
    {
      "cell_type": "code",
      "source": [
        "# 6. Concatenate x and y along rows\n",
        "concat_xy = np.concatenate((x, y), axis=0)\n",
        "print(\"\\nConcatenation of x and y along rows:\\n\", concat_xy)\n",
        "\n",
        "# Concatenate v and w along columns\n",
        "concat_vw = np.vstack((v, w))\n",
        "print(\"\\nConcatenation of v and w along columns:\\n\", concat_vw)\n"
      ],
      "metadata": {
        "colab": {
          "base_uri": "https://localhost:8080/"
        },
        "id": "UwZQWsey4BjX",
        "outputId": "272b96bc-2ce5-4634-fe13-3a95eb650f47"
      },
      "execution_count": 49,
      "outputs": [
        {
          "output_type": "stream",
          "name": "stdout",
          "text": [
            "\n",
            "Concatenation of x and y along rows:\n",
            " [[1 2]\n",
            " [3 5]\n",
            " [5 6]\n",
            " [7 8]]\n",
            "\n",
            "Concatenation of v and w along columns:\n",
            " [[ 9 10]\n",
            " [11 12]]\n"
          ]
        }
      ]
    },
    {
      "cell_type": "code",
      "source": [
        "# 7. Concatenating x and v\n",
        "try:\n",
        "    concat_xv = np.concatenate((x, v), axis=0)\n",
        "    print(\"\\nConcatenation of x and v:\\n\", concat_xv)\n",
        "except ValueError as e:\n",
        "    print(\"\\nError while concatenating x and v:\", e)"
      ],
      "metadata": {
        "colab": {
          "base_uri": "https://localhost:8080/"
        },
        "id": "h0zh12DD4ntH",
        "outputId": "26de64bc-7e89-4101-f176-fbf15fa880b8"
      },
      "execution_count": 50,
      "outputs": [
        {
          "output_type": "stream",
          "name": "stdout",
          "text": [
            "\n",
            "Error while concatenating x and v: all the input arrays must have same number of dimensions, but the array at index 0 has 2 dimension(s) and the array at index 1 has 1 dimension(s)\n"
          ]
        }
      ]
    },
    {
      "cell_type": "markdown",
      "source": [
        "### Problem - 4: Matrix Operations:"
      ],
      "metadata": {
        "id": "O3XahNUu41aY"
      }
    },
    {
      "cell_type": "markdown",
      "source": [
        "1. Prove\n",
        "𝐴\n",
        "⋅\n",
        "𝐴\n",
        "−\n",
        "1\n",
        "=\n",
        "𝐼\n",
        "A⋅A\n",
        "−1\n",
        " =I"
      ],
      "metadata": {
        "id": "nHOfD3il6Fio"
      }
    },
    {
      "cell_type": "code",
      "source": [
        "A = np.array([[3, 4], [7, 8]])\n",
        "\n",
        "# Compute the inverse of A\n",
        "A_inv = np.linalg.inv(A)\n",
        "\n",
        "# Multiply A by its inverse\n",
        "I = np.dot(A, A_inv)\n",
        "\n",
        "# Print results\n",
        "print(\"A * A^-1:\\n\", I)\n",
        "\n",
        "# Check if it's an identity matrix\n",
        "print(\"\\nIs A * A^-1 approximately equal to I? \", np.allclose(I, np.eye(2)))\n"
      ],
      "metadata": {
        "colab": {
          "base_uri": "https://localhost:8080/"
        },
        "id": "3TnDMzxA426Y",
        "outputId": "4ffcf7c2-dc34-412b-aa94-0bbc6e9148cc"
      },
      "execution_count": 52,
      "outputs": [
        {
          "output_type": "stream",
          "name": "stdout",
          "text": [
            "A * A^-1:\n",
            " [[1.00000000e+00 0.00000000e+00]\n",
            " [1.77635684e-15 1.00000000e+00]]\n",
            "\n",
            "Is A * A^-1 approximately equal to I?  True\n"
          ]
        }
      ]
    },
    {
      "cell_type": "markdown",
      "source": [
        "**To prove matrix multiplication is not commutative, we compute:**\n",
        "\n",
        "𝐴\n",
        "𝐵\n",
        "AB (A multiplied by B)\n",
        "𝐵\n",
        "𝐴\n",
        "BA (B multiplied by A)\n",
        "Check if\n",
        "𝐴\n",
        "𝐵\n",
        "=\n",
        "𝐵\n",
        "𝐴\n",
        "AB=BA\n"
      ],
      "metadata": {
        "id": "WyyxLkg_5tjI"
      }
    },
    {
      "cell_type": "code",
      "source": [
        "B = np.array([[5, 3], [2, 1]])\n",
        "\n",
        "# Compute AB and BA\n",
        "AB = np.dot(A, B)\n",
        "BA = np.dot(B, A)\n",
        "\n",
        "# Print results\n",
        "print(\"\\nAB:\\n\", AB)\n",
        "print(\"\\nBA:\\n\", BA)\n",
        "\n",
        "# Check if they are equal\n",
        "print(\"\\nIs AB equal to BA? \", np.array_equal(AB, BA))\n"
      ],
      "metadata": {
        "colab": {
          "base_uri": "https://localhost:8080/"
        },
        "id": "k7AiSckm5vKA",
        "outputId": "78f3520e-65e8-4126-c3fe-7e792a96de44"
      },
      "execution_count": 53,
      "outputs": [
        {
          "output_type": "stream",
          "name": "stdout",
          "text": [
            "\n",
            "AB:\n",
            " [[23 13]\n",
            " [51 29]]\n",
            "\n",
            "BA:\n",
            " [[36 44]\n",
            " [13 16]]\n",
            "\n",
            "Is AB equal to BA?  False\n"
          ]
        }
      ]
    },
    {
      "cell_type": "markdown",
      "source": [
        "Prove\n",
        "(\n",
        "𝐴\n",
        "𝐵\n",
        ")\n",
        "𝑇\n",
        "=\n",
        "𝐵\n",
        "𝑇\n",
        "𝐴\n",
        "𝑇\n",
        "(AB)\n",
        "T\n",
        " =B\n",
        "T\n",
        " A\n",
        "T\n",
        "\n",
        "The transpose of a product of two matrices follows the rule:\n",
        "\n",
        "(\n",
        "𝐴\n",
        "𝐵\n",
        ")\n",
        "𝑇\n",
        "=\n",
        "𝐵\n",
        "𝑇\n",
        "𝐴\n",
        "𝑇\n",
        "(AB)\n",
        "T\n",
        " =B\n",
        "T\n",
        " A\n",
        "T"
      ],
      "metadata": {
        "id": "qWSvGbVZ6Vvo"
      }
    },
    {
      "cell_type": "code",
      "source": [
        "# Compute (AB)^T\n",
        "AB_T = np.transpose(AB)\n",
        "\n",
        "# Compute B^T and A^T\n",
        "B_T = np.transpose(B)\n",
        "A_T = np.transpose(A)\n",
        "\n",
        "# Compute B^T A^T\n",
        "BT_AT = np.dot(B_T, A_T)\n",
        "\n",
        "# Print results\n",
        "print(\"\\n(AB)^T:\\n\", AB_T)\n",
        "print(\"\\nB^T A^T:\\n\", BT_AT)\n",
        "\n",
        "# Check if they are equal\n",
        "print(\"\\nIs (AB)^T equal to B^T A^T? \", np.array_equal(AB_T, BT_AT))\n"
      ],
      "metadata": {
        "colab": {
          "base_uri": "https://localhost:8080/"
        },
        "id": "yc55VZbt5zb4",
        "outputId": "b716d579-3ed1-4fa3-b7bd-ffe0ff4ce9bf"
      },
      "execution_count": 54,
      "outputs": [
        {
          "output_type": "stream",
          "name": "stdout",
          "text": [
            "\n",
            "(AB)^T:\n",
            " [[23 51]\n",
            " [13 29]]\n",
            "\n",
            "B^T A^T:\n",
            " [[23 51]\n",
            " [13 29]]\n",
            "\n",
            "Is (AB)^T equal to B^T A^T?  True\n"
          ]
        }
      ]
    },
    {
      "cell_type": "markdown",
      "source": [
        "Solving the Linear System Using the Inverse Method\n"
      ],
      "metadata": {
        "id": "8pTMkNsc6bzo"
      }
    },
    {
      "cell_type": "code",
      "source": [
        "# Define matrix A (coefficients)\n",
        "A = np.array([[2, -3, 1], [1, -1, 2], [3, 1, -1]])\n",
        "\n",
        "# Define matrix B (constants)\n",
        "B = np.array([-1, -3, 9])\n",
        "\n",
        "# Solve for X using inverse\n",
        "A_inv = np.linalg.inv(A)  # Compute inverse of A\n",
        "X = np.dot(A_inv, B)  # Compute X\n",
        "\n",
        "# Print results\n",
        "print(\"\\nSolution for x, y, z:\\n\", X)\n"
      ],
      "metadata": {
        "colab": {
          "base_uri": "https://localhost:8080/"
        },
        "id": "ivWtCooW52yQ",
        "outputId": "6233687b-f2a1-490b-f364-b9d2681118ba"
      },
      "execution_count": 55,
      "outputs": [
        {
          "output_type": "stream",
          "name": "stdout",
          "text": [
            "\n",
            "Solution for x, y, z:\n",
            " [ 2.  1. -2.]\n"
          ]
        }
      ]
    },
    {
      "cell_type": "markdown",
      "source": [
        "Solving Using np.linalg.solve"
      ],
      "metadata": {
        "id": "V1ZQSrFO6grC"
      }
    },
    {
      "cell_type": "code",
      "source": [
        "# Solve directly using np.linalg.solve\n",
        "X_solve = np.linalg.solve(A, B)\n",
        "\n",
        "# Print results\n",
        "print(\"\\nSolution using np.linalg.solve:\\n\", X_solve)\n"
      ],
      "metadata": {
        "colab": {
          "base_uri": "https://localhost:8080/"
        },
        "id": "7zpH2ZwD5424",
        "outputId": "3c86d62b-e0dc-4ecc-b360-b6e27fb8d65c"
      },
      "execution_count": 56,
      "outputs": [
        {
          "output_type": "stream",
          "name": "stdout",
          "text": [
            "\n",
            "Solution using np.linalg.solve:\n",
            " [ 2.  1. -2.]\n"
          ]
        }
      ]
    },
    {
      "cell_type": "code",
      "source": [],
      "metadata": {
        "id": "N86YRW-3StGq"
      },
      "execution_count": 56,
      "outputs": []
    }
  ]
}